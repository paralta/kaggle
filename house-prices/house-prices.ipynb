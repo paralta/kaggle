{
 "nbformat": 4,
 "nbformat_minor": 2,
 "metadata": {
  "language_info": {
   "name": "python",
   "codemirror_mode": {
    "name": "ipython",
    "version": 3
   },
   "version": "3.6.9-final"
  },
  "orig_nbformat": 2,
  "file_extension": ".py",
  "mimetype": "text/x-python",
  "name": "python",
  "npconvert_exporter": "python",
  "pygments_lexer": "ipython3",
  "version": 3,
  "kernelspec": {
   "name": "python36864bit6294bc31541c478e9cb7960dd718698e",
   "display_name": "Python 3.6.8 64-bit"
  }
 },
 "cells": [
  {
   "cell_type": "markdown",
   "metadata": {},
   "source": [
    "# House Prices: Advanced Regression Techniques\n",
    "Predict sales prices and practice feature engineering, RFs, and gradient boosting"
   ],
   "execution_count": null,
   "outputs": []
  },
  {
   "cell_type": "markdown",
   "metadata": {},
   "source": [
    "## 1. Load and explore data"
   ],
   "execution_count": null,
   "outputs": []
  },
  {
   "cell_type": "code",
   "execution_count": null,
   "metadata": {},
   "outputs": [],
   "source": [
    "# Upload dataset\n",
    "import pandas as pd\n",
    "import seaborn as sns\n",
    "\n",
    "train = pd.read_csv(\"train.csv\")\n",
    "test = pd.read_csv(\"test.csv\")\n",
    "train.head()"
   ]
  },
  {
   "cell_type": "code",
   "execution_count": null,
   "metadata": {},
   "outputs": [],
   "source": [
    "sns.distplot(train['SalePrice'])"
   ]
  },
  {
   "cell_type": "code",
   "execution_count": null,
   "metadata": {},
   "outputs": [],
   "source": [
    "corr_mat = train.corr()\n",
    "f, ax = plt.subplots(figsize=(12, 9))\n",
    "sns.heatmap(corr_mat, vmax=.8, square=True)"
   ]
  },
  {
   "cell_type": "markdown",
   "metadata": {},
   "source": [
    "## 2. Prepare Data"
   ],
   "execution_count": null,
   "outputs": []
  },
  {
   "cell_type": "code",
   "execution_count": null,
   "metadata": {},
   "outputs": [],
   "source": [
    "from sklearn.base import BaseEstimator, TransformerMixin\n",
    "from sklearn.pipeline import Pipeline\n",
    "from sklearn.preprocessing import OrdinalEncoder\n",
    "import matplotlib.pyplot as plt\n",
    "\n",
    "def plot_scatter(data):\n",
    "    fig, axes = plt.subplots(1,len(data.columns.values)-1, sharey=True, figsize=(21, 3))\n",
    "    for i, col in enumerate(data.columns.values[:-1]):\n",
    "        data.plot(x=col, y=\"SalePrice\", kind=\"scatter\", ax=axes[i])\n",
    "\n",
    "def plot_boxplot(cat, data, ordered=False):\n",
    "    f, ax = plt.subplots(1, len(cat), sharey=True, figsize=(21, 4))\n",
    "    for i, var in enumerate(cat):\n",
    "        ord=None\n",
    "        if ordered:\n",
    "            ord = data.groupby(var)[\"SalePrice\"].median().fillna(0).sort_values(ascending=False)[::-1].index\n",
    "        d = pd.concat([data['SalePrice'], data[var]], axis=1)\n",
    "        sns.boxplot(x=var, y=\"SalePrice\", data=d, ax=ax[i], order=ord, showfliers=False)"
   ]
  },
  {
   "cell_type": "code",
   "execution_count": null,
   "metadata": {},
   "outputs": [],
   "source": [
    "train.info()"
   ]
  },
  {
   "cell_type": "markdown",
   "metadata": {},
   "source": [
    "### 2.0 Features with Missing Values"
   ],
   "execution_count": null,
   "outputs": []
  },
  {
   "cell_type": "code",
   "execution_count": null,
   "metadata": {},
   "outputs": [],
   "source": [
    "class MissingValuesAttributeRemove(BaseEstimator, TransformerMixin):\n",
    "    def fit(self, data):\n",
    "        return self\n",
    "    def transform(self, data):\n",
    "        remove_attribute = [\n",
    "            \"Alley\",       # Drop Alley (>93% features missing)\n",
    "            \"FireplaceQu\", # Drop FireplaceQu (>47% features missing)\n",
    "            \"PoolQC\",      # Drop PollQC (>99% features missing)\n",
    "            \"Fence\",       # Drop Fence (>80% features missing)\n",
    "            \"MiscFeature\", # Drop MiscFeature (>96% features missing)\n",
    "            \"MiscVal\",     # Drop MiscVal (value of MiscFeature)\n",
    "        ]\n",
    "        for attribute in remove_attribute:\n",
    "            data = data.drop(attribute, axis=1)\n",
    "        return data"
   ]
  },
  {
   "cell_type": "markdown",
   "metadata": {},
   "source": [
    "### 2.1 Quality Features\n",
    "* Convert categorical features to ordinal features\n",
    "* Might be worth removing Garage Quality\n",
    "* Might be worth using only Overall Quality"
   ],
   "execution_count": null,
   "outputs": []
  },
  {
   "cell_type": "code",
   "execution_count": null,
   "metadata": {},
   "outputs": [],
   "source": [
    "class QualityAttributeTransform(BaseEstimator, TransformerMixin):\n",
    "    def fit(self, data):\n",
    "        return self\n",
    "    def transform(self, data):\n",
    "        data = data.dropna(subset=['BsmtQual', 'GarageQual'])\n",
    "        attribute_grade = ['ExterQual', 'BsmtQual', 'KitchenQual', 'GarageQual']\n",
    "        encoder = OrdinalEncoder(categories = [['NA', 'Po', 'Fa', 'TA', 'Gd', 'Ex']])\n",
    "        for attribute in attribute_grade:\n",
    "            data[[attribute]] = encoder.fit_transform(data[[attribute]])\n",
    "        return data"
   ]
  },
  {
   "cell_type": "code",
   "execution_count": null,
   "metadata": {},
   "outputs": [],
   "source": [
    "quality_pipeline = Pipeline([\n",
    "    (\"quality_attribute_transformer\", QualityAttributeTransform()),\n",
    "])\n",
    "train_quality = quality_pipeline.fit_transform(train)\n",
    "train_quality = train_quality[['OverallQual', 'ExterQual', 'BsmtQual', 'KitchenQual', 'GarageQual', 'SalePrice']]\n",
    "\n",
    "# Correlations matrix\n",
    "corr_matrix = train_quality.corr()\n",
    "corr_matrix[\"SalePrice\"].sort_values(ascending=False)"
   ]
  },
  {
   "cell_type": "code",
   "execution_count": null,
   "metadata": {},
   "outputs": [],
   "source": [
    "# Correlations matrix\n",
    "corr_matrix = train_quality.corr()\n",
    "corr_matrix[\"OverallQual\"].sort_values(ascending=False)"
   ]
  },
  {
   "cell_type": "markdown",
   "metadata": {},
   "source": [
    "### 2.2 Condition Features\n",
    "* Convert categorical features to ordinal features\n",
    "* Weak correlation with Sale Price\n",
    "* Drop features"
   ],
   "execution_count": null,
   "outputs": []
  },
  {
   "cell_type": "code",
   "execution_count": null,
   "metadata": {},
   "outputs": [],
   "source": [
    "class ConditionAttributeTransformTemp(BaseEstimator, TransformerMixin):\n",
    "    def fit(self, data):\n",
    "        return self\n",
    "    def transform(self, data):\n",
    "        data = data.dropna(subset=['BsmtCond', 'GarageCond'])\n",
    "\n",
    "        attribute_grade = ['ExterCond', 'BsmtCond', 'GarageCond']\n",
    "        encoder = OrdinalEncoder(categories = [['NA', 'Po', 'Fa', 'TA', 'Gd', 'Ex']])\n",
    "        for attribute in attribute_grade:\n",
    "            data[[attribute]] = encoder.fit_transform(data[[attribute]])\n",
    "        return data"
   ]
  },
  {
   "cell_type": "code",
   "execution_count": null,
   "metadata": {},
   "outputs": [],
   "source": [
    "condition_pipeline = Pipeline([\n",
    "    (\"condition_attribute_transformer\", ConditionAttributeTransformTemp()),\n",
    "])\n",
    "train_condition = condition_pipeline.fit_transform(train)\n",
    "train_condition = train_condition[['OverallCond', 'ExterCond', 'BsmtCond', 'GarageCond', 'SalePrice']]\n",
    "\n",
    "# Correlations matrix\n",
    "corr_matrix = train_condition.corr()\n",
    "corr_matrix[\"SalePrice\"].sort_values(ascending=False)"
   ]
  },
  {
   "cell_type": "code",
   "execution_count": null,
   "metadata": {},
   "outputs": [],
   "source": [
    "class ConditionAttributeTransform(BaseEstimator, TransformerMixin):\n",
    "    def fit(self, data):\n",
    "        return self\n",
    "    def transform(self, data):\n",
    "        remove_attribute = ['OverallCond', 'ExterCond', 'BsmtCond', 'GarageCond']\n",
    "        for attribute in remove_attribute:\n",
    "            data = data.drop(attribute, axis=1)\n",
    "        return data"
   ]
  },
  {
   "cell_type": "markdown",
   "metadata": {},
   "source": [
    "### 2.3 Area Features\n",
    "* Create new feature to include living, basement and garage areas\n",
    "* Strong correlation with Sale Price\n",
    "* Drop other features"
   ],
   "execution_count": null,
   "outputs": []
  },
  {
   "cell_type": "code",
   "execution_count": null,
   "metadata": {},
   "outputs": [],
   "source": [
    "train_area = train[['LotArea', 'MasVnrArea', 'BsmtFinSF1', 'BsmtFinSF2', 'BsmtUnfSF', 'TotalBsmtSF', '1stFlrSF', '2ndFlrSF', 'LowQualFinSF', 'GrLivArea', 'GarageArea', 'GarageCars', 'WoodDeckSF', 'OpenPorchSF', 'EnclosedPorch', '3SsnPorch', 'ScreenPorch', 'PoolArea', 'LotFrontage', 'SalePrice']]\n",
    "train_area['TotalArea'] = train['GrLivArea'] + train['TotalBsmtSF'] + train['GarageArea']\n",
    "\n",
    "# Correlations matrix\n",
    "corr_matrix = train_area.corr()\n",
    "corr_matrix[\"SalePrice\"].sort_values(ascending=False)"
   ]
  },
  {
   "cell_type": "code",
   "execution_count": null,
   "metadata": {},
   "outputs": [],
   "source": [
    "class AreaAttributeTransform(BaseEstimator, TransformerMixin):\n",
    "    def fit(self, data):\n",
    "        return self\n",
    "    def transform(self, data):\n",
    "        data['TotalArea'] = data['GrLivArea'] + data['TotalBsmtSF'] + data['GarageArea']\n",
    "        remove_attribute = ['LotArea', 'MasVnrArea', 'BsmtFinSF1', 'BsmtFinSF2', 'BsmtUnfSF', 'TotalBsmtSF', '1stFlrSF', '2ndFlrSF', 'LowQualFinSF', 'GrLivArea', 'GarageArea', 'GarageCars', 'WoodDeckSF', 'OpenPorchSF', 'EnclosedPorch', '3SsnPorch', 'ScreenPorch', 'PoolArea', 'LotFrontage']\n",
    "        for attribute in remove_attribute:\n",
    "            data = data.drop(attribute, axis=1)\n",
    "        return data"
   ]
  },
  {
   "cell_type": "markdown",
   "metadata": {},
   "source": [
    "### 2.4 Number of Rooms Features\n",
    "* Create new feature to include total number of rooms and bathrooms \n",
    "* Strong correlation with Sale Price\n",
    "* Drop other features"
   ],
   "execution_count": null,
   "outputs": []
  },
  {
   "cell_type": "code",
   "execution_count": null,
   "metadata": {},
   "outputs": [],
   "source": [
    "train_rooms = train[['BsmtFullBath', 'BsmtHalfBath', 'FullBath', 'HalfBath', 'BedroomAbvGr', 'KitchenAbvGr', 'TotRmsAbvGrd', 'Fireplaces']]\n",
    "train_rooms['TotRms'] =  train['TotRmsAbvGrd'] + train['FullBath'] + train['HalfBath']\n",
    "train_rooms['SalePrice'] = train[['SalePrice']]\n",
    "\n",
    "# Correlations matrix\n",
    "corr_matrix = train_rooms.corr()\n",
    "corr_matrix[\"SalePrice\"].sort_values(ascending=False)"
   ]
  },
  {
   "cell_type": "code",
   "execution_count": null,
   "metadata": {},
   "outputs": [],
   "source": [
    "plot_scatter(train_rooms)"
   ]
  },
  {
   "cell_type": "code",
   "execution_count": null,
   "metadata": {},
   "outputs": [],
   "source": [
    "class RoomsAttributeTransform(BaseEstimator, TransformerMixin):\n",
    "    def fit(self, data):\n",
    "        return self\n",
    "    def transform(self, data):\n",
    "        data['TotRms'] =  data['TotRmsAbvGrd'] + data['FullBath'] + data['HalfBath']\n",
    "        remove_attribute = ['BsmtFullBath', 'BsmtHalfBath', 'FullBath', 'HalfBath', 'BedroomAbvGr', 'KitchenAbvGr', 'TotRmsAbvGrd', 'Fireplaces']\n",
    "        for attribute in remove_attribute:\n",
    "            data = data.drop(attribute, axis=1)\n",
    "        return data"
   ]
  },
  {
   "cell_type": "markdown",
   "metadata": {},
   "source": [
    "### 2.5 Date Features\n",
    "* Only two features with strong correlation with Sale Price\n",
    "* Drop other features"
   ],
   "execution_count": null,
   "outputs": []
  },
  {
   "cell_type": "code",
   "execution_count": null,
   "metadata": {},
   "outputs": [],
   "source": [
    "train_dates = train[['YearBuilt', 'YearRemodAdd', 'GarageYrBlt', 'MoSold', 'YrSold', 'SalePrice']]\n",
    "\n",
    "# Correlations matrix\n",
    "corr_matrix = train_dates.corr()\n",
    "corr_matrix[\"SalePrice\"].sort_values(ascending=False)"
   ]
  },
  {
   "cell_type": "code",
   "execution_count": null,
   "metadata": {},
   "outputs": [],
   "source": [
    "corr_matrix[\"YearBuilt\"]['YearRemodAdd']"
   ]
  },
  {
   "cell_type": "code",
   "execution_count": null,
   "metadata": {},
   "outputs": [],
   "source": [
    "plot_scatter(train_dates)"
   ]
  },
  {
   "cell_type": "code",
   "execution_count": null,
   "metadata": {},
   "outputs": [],
   "source": [
    "class DatesAttributeTransform(BaseEstimator, TransformerMixin):\n",
    "    def fit(self, data):\n",
    "        return self\n",
    "    def transform(self, data):\n",
    "        remove_attribute = ['GarageYrBlt', 'MoSold', 'YrSold']\n",
    "        for attribute in remove_attribute:\n",
    "            data = data.drop(attribute, axis=1)\n",
    "        return data"
   ]
  },
  {
   "cell_type": "markdown",
   "metadata": {},
   "source": [
    "### 2.6 Other Sortable Categorical Features\n",
    "* No feature presented a strong correlation with Sle Price\n",
    "* Drop features for now \n",
    "* Might be worth considering Heating QC"
   ],
   "execution_count": null,
   "outputs": []
  },
  {
   "cell_type": "code",
   "execution_count": null,
   "metadata": {},
   "outputs": [],
   "source": [
    "class OrdinalAttributeConverter(BaseEstimator, TransformerMixin):\n",
    "    def fit(self, data):\n",
    "        return self\n",
    "    def transform(self, data):\n",
    "        data = data.dropna(subset=[\"BsmtExposure\", \"BsmtFinType1\", \"BsmtFinType2\", \"GarageFinish\"])\n",
    "\n",
    "        attribute_pave = ['Street', 'PavedDrive']\n",
    "        for attribute in attribute_pave:\n",
    "            data.loc[data[attribute] == 'Pave', attribute] = 2\n",
    "            data.loc[data[attribute] == 'Grvl', attribute] = 0\n",
    "            data.loc[data[attribute] == 'Y', attribute] = 2\n",
    "            data.loc[data[attribute] == 'P', attribute] = 1\n",
    "            data.loc[data[attribute] == 'N', attribute] = 0\n",
    "\n",
    "        encoder = OrdinalEncoder(categories = [['IR3', 'IR2', 'IR1', 'Reg']])\n",
    "        data[['LotShape']] = encoder.fit_transform(data[['LotShape']])\n",
    "\n",
    "        encoder = OrdinalEncoder(categories = [['ELO', 'NoSeWa', 'NoSewr', 'AllPub']])\n",
    "        data[['Utilities']] = encoder.fit_transform(data[['Utilities']])\n",
    "\n",
    "        encoder = OrdinalEncoder(categories = [['Sev', 'Mod', 'Gtl']])\n",
    "        data[['LandSlope']] = encoder.fit_transform(data[['LandSlope']])\n",
    "\n",
    "        encoder = OrdinalEncoder(categories = [['NA', 'No', 'Mn', 'Av', 'Gd']])\n",
    "        data[['BsmtExposure']] = encoder.fit_transform(data[['BsmtExposure']])\n",
    "\n",
    "        encoder = OrdinalEncoder(categories = [['NA', 'Unf', 'LwQ', 'Rec', 'BLQ', 'ALQ', 'GLQ']])\n",
    "        data[['BsmtFinType1']] = encoder.fit_transform(data[['BsmtFinType1']])\n",
    "        data[['BsmtFinType2']] = encoder.fit_transform(data[['BsmtFinType2']])\n",
    "\n",
    "        encoder = OrdinalEncoder(categories = [['Po', 'Fa', 'TA', 'Gd', 'Ex']])\n",
    "        data[['HeatingQC']] = encoder.fit_transform(data[['HeatingQC']])\n",
    "\n",
    "        encoder = OrdinalEncoder(categories = [['N', 'Y']])\n",
    "        data[['CentralAir']] = encoder.fit_transform(data[['CentralAir']])\n",
    "\n",
    "        encoder = OrdinalEncoder(categories = [['Sal', 'Sev', 'Maj2', 'Maj1', 'Mod', 'Min2',  'Min1', 'Typ']])\n",
    "        data[['Functional']] = encoder.fit_transform(data[['Functional']])\n",
    "\n",
    "        encoder = OrdinalEncoder(categories = [['NA', 'Unf', 'RFn', 'Fin']])\n",
    "        data[['GarageFinish']] = encoder.fit_transform(data[['GarageFinish']])\n",
    "\n",
    "        return data\n",
    ""
   ]
  },
  {
   "cell_type": "code",
   "execution_count": null,
   "metadata": {},
   "outputs": [],
   "source": [
    "train_ordinal = train[['Street', 'PavedDrive', 'LotShape', 'Utilities', 'LandSlope', 'BsmtExposure', 'BsmtFinType1', 'BsmtFinType2', 'HeatingQC', 'CentralAir', 'Functional', 'GarageFinish', 'SalePrice']]\n",
    "\n",
    "ordinal_pipeline = Pipeline([\n",
    "    (\"ordinal_attribute_transformer\", OrdinalAttributeConverter()),\n",
    "])\n",
    "train_ordinal = ordinal_pipeline.fit_transform(train_ordinal)\n",
    "\n",
    "# Correlations matrix\n",
    "corr_matrix = train_ordinal.corr()\n",
    "corr_matrix[\"SalePrice\"].sort_values(ascending=False)"
   ]
  },
  {
   "cell_type": "code",
   "execution_count": null,
   "metadata": {},
   "outputs": [],
   "source": [
    "plot_boxplot(['Street', 'PavedDrive', 'LotShape', 'Utilities', 'LandSlope', 'BsmtExposure'], train)\n",
    "plot_boxplot(['BsmtFinType1', 'BsmtFinType2', 'HeatingQC', 'CentralAir', 'Functional', 'GarageFinish'], train)"
   ]
  },
  {
   "cell_type": "code",
   "execution_count": null,
   "metadata": {},
   "outputs": [],
   "source": [
    "class SortableCategoricalAttributeTransform(BaseEstimator, TransformerMixin):\n",
    "    def fit(self, data):\n",
    "        return self\n",
    "    def transform(self, data):\n",
    "        remove_attribute = ['Street', 'PavedDrive', 'LotShape', 'Utilities', 'LandSlope', 'BsmtExposure', 'BsmtFinType1', 'BsmtFinType2', 'HeatingQC', 'CentralAir', 'Functional', 'GarageFinish']\n",
    "        for attribute in remove_attribute:\n",
    "            data = data.drop(attribute, axis=1)\n",
    "        return data"
   ]
  },
  {
   "cell_type": "markdown",
   "metadata": {},
   "source": [
    "### 2.7 Other Non-Sortable Categorical Features\n",
    "* Require one hot encoder\n",
    "* Drop features without a clear correlation with Sale Price, i.e. features where difference between categories' median values is small and box range overlaps significantly between categories * Drop features with categories without a significant number of cases\n",
    "* Relevance of features also considered\n"
   ],
   "execution_count": null,
   "outputs": []
  },
  {
   "cell_type": "code",
   "execution_count": null,
   "metadata": {},
   "outputs": [],
   "source": [
    "plot_boxplot(['MSSubClass', 'MSZoning', 'LandContour', 'LotConfig', 'Neighborhood'], train, True)\n",
    "plot_boxplot(['Condition1', 'Condition2', 'BldgType', 'HouseStyle', 'RoofStyle'], train, True)\n",
    "plot_boxplot(['RoofMatl', 'Exterior1st', 'Exterior2nd', 'MasVnrType', 'Foundation'], train, True)\n",
    "plot_boxplot(['Heating', 'Electrical', 'GarageType', 'SaleType', 'SaleCondition'], train, True)"
   ]
  },
  {
   "cell_type": "code",
   "execution_count": null,
   "metadata": {},
   "outputs": [],
   "source": [
    "train.groupby('SaleCondition').median()['SalePrice'].sort_values()"
   ]
  },
  {
   "cell_type": "code",
   "execution_count": null,
   "metadata": {},
   "outputs": [],
   "source": [
    "class NonSortableCategoricalAttributeTransform(BaseEstimator, TransformerMixin):\n",
    "    def fit(self, data):\n",
    "        return self\n",
    "    def transform(self, data):\n",
    "        remove_attribute = ['MSSubClass', 'LotConfig', 'Condition1', 'Condition2', 'BldgType', 'HouseStyle', 'RoofStyle' , 'RoofMatl', 'Exterior1st', 'Exterior2nd', , 'Foundation' , 'Heating', 'Electrical', 'GarageType', 'SaleType']\n",
    "        for attribute in remove_attribute:\n",
    "            data = data.drop(attribute, axis=1)\n",
    "\n",
    "        encoder = OrdinalEncoder(categories = [['C (all)', 'RM', 'RH', 'RL', 'FV']])\n",
    "        data[['MSZoning']] = encoder.fit_transform(data[['MSZoning']])\n",
    "\n",
    "        encoder = OrdinalEncoder(categories = [['C (all)', 'RM', 'RH', 'RL', 'FV']])\n",
    "        data[['LandContour']] = encoder.fit_transform(data[['LandContour']])\n",
    "\n",
    "        encoder = OrdinalEncoder(categories = [['MeadowV', 'IDOTRR', 'BrDale', 'OldTown', 'Edwards', 'BrkSide', 'Sawyer', 'Blueste', 'SWISU', 'NAmes', 'NPkVill', 'Mitchel', 'SawyerW', 'Gilbert', 'NWAmes', 'Blmngtn', 'CollgCr', 'ClearCr', 'Crawfor', 'Veenker', 'Somerst', 'Timber', 'StoneBr', 'NoRidge', 'NridgHt']])\n",
    "        data[['Neighborhood']] = encoder.fit_transform(data[['Neighborhood']])\n",
    "\n",
    "        encoder = OrdinalEncoder(categories = [['BrkCmn', 'None', 'BrkFace', 'Stone']])\n",
    "        data[['MasVnrType']] = encoder.fit_transform(data[['MasVnrType']])\n",
    "        \n",
    "        encoder = OrdinalEncoder(categories = [['AdjLand', 'Abnorml', 'Family', 'Alloca', 'Normal', 'Partial']])\n",
    "        data[['SaleCondition']] = encoder.fit_transform(data[['SaleCondition']])\n",
    "\n",
    "        return data"
   ]
  },
  {
   "cell_type": "markdown",
   "metadata": {},
   "source": [
    "## 3. Train Model\n",
    "\n"
   ],
   "execution_count": null,
   "outputs": []
  },
  {
   "cell_type": "code",
   "execution_count": null,
   "metadata": {},
   "outputs": [],
   "source": [
    "from sklearn.ensemble import RandomForestRegressor\n",
    "from sklearn.model_selection import cross_val_score\n",
    "florest_reg = RandomForestRegressor()\n",
    "def display_scores(scores):\n",
    "    print(\"Scores: \", scores)\n",
    "    print(\"Mean: \", scores.mean())\n",
    "    print(\"Standard Deviation: \", scores.std())"
   ]
  },
  {
   "cell_type": "code",
   "execution_count": null,
   "metadata": {},
   "outputs": [],
   "source": [
    "\n",
    "x_train_quality = train_quality[['OverallQual', 'ExterQual', 'BsmtQual', 'KitchenQual', 'GarageQual']]\n",
    "y_train_quality = train_quality[['SalePrice']]\n",
    "florest_reg.fit(x_train_quality, y_train_quality)\n",
    "\n",
    "florest_reg_scores = cross_val_score(florest_reg, x_train_quality, y_train_quality, scoring=\"neg_mean_squared_error\", cv=10)\n",
    "display_scores(np.sqrt(-florest_reg_scores))"
   ]
  },
  {
   "cell_type": "code",
   "execution_count": null,
   "metadata": {},
   "outputs": [],
   "source": [
    "x_train_quality = train_quality[['OverallQual']]\n",
    "y_train_quality = train_quality[['SalePrice']]\n",
    "florest_reg.fit(x_train_quality, y_train_quality)\n",
    "\n",
    "florest_reg_scores = cross_val_score(florest_reg, x_train_quality, y_train_quality, scoring=\"neg_mean_squared_error\", cv=10)\n",
    "display_scores(np.sqrt(-florest_reg_scores))"
   ]
  },
  {
   "cell_type": "code",
   "execution_count": null,
   "metadata": {},
   "outputs": [],
   "source": []
  }
 ]
}