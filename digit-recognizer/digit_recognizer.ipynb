{
 "metadata": {
  "language_info": {
   "codemirror_mode": {
    "name": "ipython",
    "version": 3
   },
   "file_extension": ".py",
   "mimetype": "text/x-python",
   "name": "python",
   "nbconvert_exporter": "python",
   "pygments_lexer": "ipython3",
   "version": "3.8.2-final"
  },
  "orig_nbformat": 2,
  "kernelspec": {
   "name": "Python 3.8.2 64-bit",
   "display_name": "Python 3.8.2 64-bit",
   "metadata": {
    "interpreter": {
     "hash": "31f2aee4e71d21fbe5cf8b01ff0e069b9275f58929596ceb00d14d90e3e16cd6"
    }
   }
  }
 },
 "nbformat": 4,
 "nbformat_minor": 2,
 "cells": [
  {
   "source": [
    "# Digit Recognizer"
   ],
   "cell_type": "markdown",
   "metadata": {}
  },
  {
   "cell_type": "code",
   "execution_count": 1,
   "metadata": {},
   "outputs": [],
   "source": [
    "import pandas as pd\n",
    "import seaborn as sns\n",
    "import numpy as np"
   ]
  },
  {
   "source": [
    "## 1. Load and Prepare Data"
   ],
   "cell_type": "markdown",
   "metadata": {}
  },
  {
   "cell_type": "code",
   "execution_count": 2,
   "metadata": {},
   "outputs": [],
   "source": [
    "train = pd.read_csv(\"train.csv\")\n",
    "test = pd.read_csv(\"test.csv\")"
   ]
  },
  {
   "cell_type": "code",
   "execution_count": 3,
   "metadata": {},
   "outputs": [
    {
     "output_type": "display_data",
     "data": {
      "text/plain": "<Figure size 432x288 with 1 Axes>",
      "image/svg+xml": "<?xml version=\"1.0\" encoding=\"utf-8\" standalone=\"no\"?>\n<!DOCTYPE svg PUBLIC \"-//W3C//DTD SVG 1.1//EN\"\n  \"http://www.w3.org/Graphics/SVG/1.1/DTD/svg11.dtd\">\n<!-- Created with matplotlib (https://matplotlib.org/) -->\n<svg height=\"248.518125pt\" version=\"1.1\" viewBox=\"0 0 395.328125 248.518125\" width=\"395.328125pt\" xmlns=\"http://www.w3.org/2000/svg\" xmlns:xlink=\"http://www.w3.org/1999/xlink\">\n <metadata>\n  <rdf:RDF xmlns:cc=\"http://creativecommons.org/ns#\" xmlns:dc=\"http://purl.org/dc/elements/1.1/\" xmlns:rdf=\"http://www.w3.org/1999/02/22-rdf-syntax-ns#\">\n   <cc:Work>\n    <dc:type rdf:resource=\"http://purl.org/dc/dcmitype/StillImage\"/>\n    <dc:date>2020-11-08T17:20:51.993693</dc:date>\n    <dc:format>image/svg+xml</dc:format>\n    <dc:creator>\n     <cc:Agent>\n      <dc:title>Matplotlib v3.3.0, https://matplotlib.org/</dc:title>\n     </cc:Agent>\n    </dc:creator>\n   </cc:Work>\n  </rdf:RDF>\n </metadata>\n <defs>\n  <style type=\"text/css\">*{stroke-linecap:butt;stroke-linejoin:round;}</style>\n </defs>\n <g id=\"figure_1\">\n  <g id=\"patch_1\">\n   <path d=\"M 0 248.518125 \nL 395.328125 248.518125 \nL 395.328125 0 \nL 0 0 \nz\n\" style=\"fill:none;\"/>\n  </g>\n  <g id=\"axes_1\">\n   <g id=\"patch_2\">\n    <path d=\"M 53.328125 224.64 \nL 388.128125 224.64 \nL 388.128125 7.2 \nL 53.328125 7.2 \nz\n\" style=\"fill:#ffffff;\"/>\n   </g>\n   <g id=\"patch_3\">\n    <path clip-path=\"url(#pab8a7a56d7)\" d=\"M 56.676125 224.64 \nL 83.460125 224.64 \nL 83.460125 41.958922 \nL 56.676125 41.958922 \nz\n\" style=\"fill:#3274a1;\"/>\n   </g>\n   <g id=\"patch_4\">\n    <path clip-path=\"url(#pab8a7a56d7)\" d=\"M 90.156125 224.64 \nL 116.940125 224.64 \nL 116.940125 17.554286 \nL 90.156125 17.554286 \nz\n\" style=\"fill:#e1812c;\"/>\n   </g>\n   <g id=\"patch_5\">\n    <path clip-path=\"url(#pab8a7a56d7)\" d=\"M 123.636125 224.64 \nL 150.420125 224.64 \nL 150.420125 39.969413 \nL 123.636125 39.969413 \nz\n\" style=\"fill:#3a923a;\"/>\n   </g>\n   <g id=\"patch_6\">\n    <path clip-path=\"url(#pab8a7a56d7)\" d=\"M 157.116125 224.64 \nL 183.900125 224.64 \nL 183.900125 32.276648 \nL 157.116125 32.276648 \nz\n\" style=\"fill:#c03d3e;\"/>\n   </g>\n   <g id=\"patch_7\">\n    <path clip-path=\"url(#pab8a7a56d7)\" d=\"M 190.596125 224.64 \nL 217.380125 224.64 \nL 217.380125 44.611599 \nL 190.596125 44.611599 \nz\n\" style=\"fill:#9372b2;\"/>\n   </g>\n   <g id=\"patch_8\">\n    <path clip-path=\"url(#pab8a7a56d7)\" d=\"M 224.076125 224.64 \nL 250.860125 224.64 \nL 250.860125 56.858129 \nL 224.076125 56.858129 \nz\n\" style=\"fill:#845b53;\"/>\n   </g>\n   <g id=\"patch_9\">\n    <path clip-path=\"url(#pab8a7a56d7)\" d=\"M 257.556125 224.64 \nL 284.340125 224.64 \nL 284.340125 41.737865 \nL 257.556125 41.737865 \nz\n\" style=\"fill:#d684bd;\"/>\n   </g>\n   <g id=\"patch_10\">\n    <path clip-path=\"url(#pab8a7a56d7)\" d=\"M 291.036125 224.64 \nL 317.820125 224.64 \nL 317.820125 30.066083 \nL 291.036125 30.066083 \nz\n\" style=\"fill:#7f7f7f;\"/>\n   </g>\n   <g id=\"patch_11\">\n    <path clip-path=\"url(#pab8a7a56d7)\" d=\"M 324.516125 224.64 \nL 351.300125 224.64 \nL 351.300125 45.009501 \nL 324.516125 45.009501 \nz\n\" style=\"fill:#a9aa35;\"/>\n   </g>\n   <g id=\"patch_12\">\n    <path clip-path=\"url(#pab8a7a56d7)\" d=\"M 357.996125 224.64 \nL 384.780125 224.64 \nL 384.780125 39.483089 \nL 357.996125 39.483089 \nz\n\" style=\"fill:#2eabb8;\"/>\n   </g>\n   <g id=\"matplotlib.axis_1\">\n    <g id=\"xtick_1\">\n     <g id=\"line2d_1\">\n      <defs>\n       <path d=\"M 0 0 \nL 0 3.5 \n\" id=\"m1f8c212353\" style=\"stroke:#000000;stroke-width:0.8;\"/>\n      </defs>\n      <g>\n       <use style=\"stroke:#000000;stroke-width:0.8;\" x=\"70.068125\" xlink:href=\"#m1f8c212353\" y=\"224.64\"/>\n      </g>\n     </g>\n     <g id=\"text_1\">\n      <!-- 0 -->\n      <g transform=\"translate(66.886875 239.238437)scale(0.1 -0.1)\">\n       <defs>\n        <path d=\"M 31.78125 66.40625 \nQ 24.171875 66.40625 20.328125 58.90625 \nQ 16.5 51.421875 16.5 36.375 \nQ 16.5 21.390625 20.328125 13.890625 \nQ 24.171875 6.390625 31.78125 6.390625 \nQ 39.453125 6.390625 43.28125 13.890625 \nQ 47.125 21.390625 47.125 36.375 \nQ 47.125 51.421875 43.28125 58.90625 \nQ 39.453125 66.40625 31.78125 66.40625 \nz\nM 31.78125 74.21875 \nQ 44.046875 74.21875 50.515625 64.515625 \nQ 56.984375 54.828125 56.984375 36.375 \nQ 56.984375 17.96875 50.515625 8.265625 \nQ 44.046875 -1.421875 31.78125 -1.421875 \nQ 19.53125 -1.421875 13.0625 8.265625 \nQ 6.59375 17.96875 6.59375 36.375 \nQ 6.59375 54.828125 13.0625 64.515625 \nQ 19.53125 74.21875 31.78125 74.21875 \nz\n\" id=\"DejaVuSans-48\"/>\n       </defs>\n       <use xlink:href=\"#DejaVuSans-48\"/>\n      </g>\n     </g>\n    </g>\n    <g id=\"xtick_2\">\n     <g id=\"line2d_2\">\n      <g>\n       <use style=\"stroke:#000000;stroke-width:0.8;\" x=\"103.548125\" xlink:href=\"#m1f8c212353\" y=\"224.64\"/>\n      </g>\n     </g>\n     <g id=\"text_2\">\n      <!-- 1 -->\n      <g transform=\"translate(100.366875 239.238437)scale(0.1 -0.1)\">\n       <defs>\n        <path d=\"M 12.40625 8.296875 \nL 28.515625 8.296875 \nL 28.515625 63.921875 \nL 10.984375 60.40625 \nL 10.984375 69.390625 \nL 28.421875 72.90625 \nL 38.28125 72.90625 \nL 38.28125 8.296875 \nL 54.390625 8.296875 \nL 54.390625 0 \nL 12.40625 0 \nz\n\" id=\"DejaVuSans-49\"/>\n       </defs>\n       <use xlink:href=\"#DejaVuSans-49\"/>\n      </g>\n     </g>\n    </g>\n    <g id=\"xtick_3\">\n     <g id=\"line2d_3\">\n      <g>\n       <use style=\"stroke:#000000;stroke-width:0.8;\" x=\"137.028125\" xlink:href=\"#m1f8c212353\" y=\"224.64\"/>\n      </g>\n     </g>\n     <g id=\"text_3\">\n      <!-- 2 -->\n      <g transform=\"translate(133.846875 239.238437)scale(0.1 -0.1)\">\n       <defs>\n        <path d=\"M 19.1875 8.296875 \nL 53.609375 8.296875 \nL 53.609375 0 \nL 7.328125 0 \nL 7.328125 8.296875 \nQ 12.9375 14.109375 22.625 23.890625 \nQ 32.328125 33.6875 34.8125 36.53125 \nQ 39.546875 41.84375 41.421875 45.53125 \nQ 43.3125 49.21875 43.3125 52.78125 \nQ 43.3125 58.59375 39.234375 62.25 \nQ 35.15625 65.921875 28.609375 65.921875 \nQ 23.96875 65.921875 18.8125 64.3125 \nQ 13.671875 62.703125 7.8125 59.421875 \nL 7.8125 69.390625 \nQ 13.765625 71.78125 18.9375 73 \nQ 24.125 74.21875 28.421875 74.21875 \nQ 39.75 74.21875 46.484375 68.546875 \nQ 53.21875 62.890625 53.21875 53.421875 \nQ 53.21875 48.921875 51.53125 44.890625 \nQ 49.859375 40.875 45.40625 35.40625 \nQ 44.1875 33.984375 37.640625 27.21875 \nQ 31.109375 20.453125 19.1875 8.296875 \nz\n\" id=\"DejaVuSans-50\"/>\n       </defs>\n       <use xlink:href=\"#DejaVuSans-50\"/>\n      </g>\n     </g>\n    </g>\n    <g id=\"xtick_4\">\n     <g id=\"line2d_4\">\n      <g>\n       <use style=\"stroke:#000000;stroke-width:0.8;\" x=\"170.508125\" xlink:href=\"#m1f8c212353\" y=\"224.64\"/>\n      </g>\n     </g>\n     <g id=\"text_4\">\n      <!-- 3 -->\n      <g transform=\"translate(167.326875 239.238437)scale(0.1 -0.1)\">\n       <defs>\n        <path d=\"M 40.578125 39.3125 \nQ 47.65625 37.796875 51.625 33 \nQ 55.609375 28.21875 55.609375 21.1875 \nQ 55.609375 10.40625 48.1875 4.484375 \nQ 40.765625 -1.421875 27.09375 -1.421875 \nQ 22.515625 -1.421875 17.65625 -0.515625 \nQ 12.796875 0.390625 7.625 2.203125 \nL 7.625 11.71875 \nQ 11.71875 9.328125 16.59375 8.109375 \nQ 21.484375 6.890625 26.8125 6.890625 \nQ 36.078125 6.890625 40.9375 10.546875 \nQ 45.796875 14.203125 45.796875 21.1875 \nQ 45.796875 27.640625 41.28125 31.265625 \nQ 36.765625 34.90625 28.71875 34.90625 \nL 20.21875 34.90625 \nL 20.21875 43.015625 \nL 29.109375 43.015625 \nQ 36.375 43.015625 40.234375 45.921875 \nQ 44.09375 48.828125 44.09375 54.296875 \nQ 44.09375 59.90625 40.109375 62.90625 \nQ 36.140625 65.921875 28.71875 65.921875 \nQ 24.65625 65.921875 20.015625 65.03125 \nQ 15.375 64.15625 9.8125 62.3125 \nL 9.8125 71.09375 \nQ 15.4375 72.65625 20.34375 73.4375 \nQ 25.25 74.21875 29.59375 74.21875 \nQ 40.828125 74.21875 47.359375 69.109375 \nQ 53.90625 64.015625 53.90625 55.328125 \nQ 53.90625 49.265625 50.4375 45.09375 \nQ 46.96875 40.921875 40.578125 39.3125 \nz\n\" id=\"DejaVuSans-51\"/>\n       </defs>\n       <use xlink:href=\"#DejaVuSans-51\"/>\n      </g>\n     </g>\n    </g>\n    <g id=\"xtick_5\">\n     <g id=\"line2d_5\">\n      <g>\n       <use style=\"stroke:#000000;stroke-width:0.8;\" x=\"203.988125\" xlink:href=\"#m1f8c212353\" y=\"224.64\"/>\n      </g>\n     </g>\n     <g id=\"text_5\">\n      <!-- 4 -->\n      <g transform=\"translate(200.806875 239.238437)scale(0.1 -0.1)\">\n       <defs>\n        <path d=\"M 37.796875 64.3125 \nL 12.890625 25.390625 \nL 37.796875 25.390625 \nz\nM 35.203125 72.90625 \nL 47.609375 72.90625 \nL 47.609375 25.390625 \nL 58.015625 25.390625 \nL 58.015625 17.1875 \nL 47.609375 17.1875 \nL 47.609375 0 \nL 37.796875 0 \nL 37.796875 17.1875 \nL 4.890625 17.1875 \nL 4.890625 26.703125 \nz\n\" id=\"DejaVuSans-52\"/>\n       </defs>\n       <use xlink:href=\"#DejaVuSans-52\"/>\n      </g>\n     </g>\n    </g>\n    <g id=\"xtick_6\">\n     <g id=\"line2d_6\">\n      <g>\n       <use style=\"stroke:#000000;stroke-width:0.8;\" x=\"237.468125\" xlink:href=\"#m1f8c212353\" y=\"224.64\"/>\n      </g>\n     </g>\n     <g id=\"text_6\">\n      <!-- 5 -->\n      <g transform=\"translate(234.286875 239.238437)scale(0.1 -0.1)\">\n       <defs>\n        <path d=\"M 10.796875 72.90625 \nL 49.515625 72.90625 \nL 49.515625 64.59375 \nL 19.828125 64.59375 \nL 19.828125 46.734375 \nQ 21.96875 47.46875 24.109375 47.828125 \nQ 26.265625 48.1875 28.421875 48.1875 \nQ 40.625 48.1875 47.75 41.5 \nQ 54.890625 34.8125 54.890625 23.390625 \nQ 54.890625 11.625 47.5625 5.09375 \nQ 40.234375 -1.421875 26.90625 -1.421875 \nQ 22.3125 -1.421875 17.546875 -0.640625 \nQ 12.796875 0.140625 7.71875 1.703125 \nL 7.71875 11.625 \nQ 12.109375 9.234375 16.796875 8.0625 \nQ 21.484375 6.890625 26.703125 6.890625 \nQ 35.15625 6.890625 40.078125 11.328125 \nQ 45.015625 15.765625 45.015625 23.390625 \nQ 45.015625 31 40.078125 35.4375 \nQ 35.15625 39.890625 26.703125 39.890625 \nQ 22.75 39.890625 18.8125 39.015625 \nQ 14.890625 38.140625 10.796875 36.28125 \nz\n\" id=\"DejaVuSans-53\"/>\n       </defs>\n       <use xlink:href=\"#DejaVuSans-53\"/>\n      </g>\n     </g>\n    </g>\n    <g id=\"xtick_7\">\n     <g id=\"line2d_7\">\n      <g>\n       <use style=\"stroke:#000000;stroke-width:0.8;\" x=\"270.948125\" xlink:href=\"#m1f8c212353\" y=\"224.64\"/>\n      </g>\n     </g>\n     <g id=\"text_7\">\n      <!-- 6 -->\n      <g transform=\"translate(267.766875 239.238437)scale(0.1 -0.1)\">\n       <defs>\n        <path d=\"M 33.015625 40.375 \nQ 26.375 40.375 22.484375 35.828125 \nQ 18.609375 31.296875 18.609375 23.390625 \nQ 18.609375 15.53125 22.484375 10.953125 \nQ 26.375 6.390625 33.015625 6.390625 \nQ 39.65625 6.390625 43.53125 10.953125 \nQ 47.40625 15.53125 47.40625 23.390625 \nQ 47.40625 31.296875 43.53125 35.828125 \nQ 39.65625 40.375 33.015625 40.375 \nz\nM 52.59375 71.296875 \nL 52.59375 62.3125 \nQ 48.875 64.0625 45.09375 64.984375 \nQ 41.3125 65.921875 37.59375 65.921875 \nQ 27.828125 65.921875 22.671875 59.328125 \nQ 17.53125 52.734375 16.796875 39.40625 \nQ 19.671875 43.65625 24.015625 45.921875 \nQ 28.375 48.1875 33.59375 48.1875 \nQ 44.578125 48.1875 50.953125 41.515625 \nQ 57.328125 34.859375 57.328125 23.390625 \nQ 57.328125 12.15625 50.6875 5.359375 \nQ 44.046875 -1.421875 33.015625 -1.421875 \nQ 20.359375 -1.421875 13.671875 8.265625 \nQ 6.984375 17.96875 6.984375 36.375 \nQ 6.984375 53.65625 15.1875 63.9375 \nQ 23.390625 74.21875 37.203125 74.21875 \nQ 40.921875 74.21875 44.703125 73.484375 \nQ 48.484375 72.75 52.59375 71.296875 \nz\n\" id=\"DejaVuSans-54\"/>\n       </defs>\n       <use xlink:href=\"#DejaVuSans-54\"/>\n      </g>\n     </g>\n    </g>\n    <g id=\"xtick_8\">\n     <g id=\"line2d_8\">\n      <g>\n       <use style=\"stroke:#000000;stroke-width:0.8;\" x=\"304.428125\" xlink:href=\"#m1f8c212353\" y=\"224.64\"/>\n      </g>\n     </g>\n     <g id=\"text_8\">\n      <!-- 7 -->\n      <g transform=\"translate(301.246875 239.238437)scale(0.1 -0.1)\">\n       <defs>\n        <path d=\"M 8.203125 72.90625 \nL 55.078125 72.90625 \nL 55.078125 68.703125 \nL 28.609375 0 \nL 18.3125 0 \nL 43.21875 64.59375 \nL 8.203125 64.59375 \nz\n\" id=\"DejaVuSans-55\"/>\n       </defs>\n       <use xlink:href=\"#DejaVuSans-55\"/>\n      </g>\n     </g>\n    </g>\n    <g id=\"xtick_9\">\n     <g id=\"line2d_9\">\n      <g>\n       <use style=\"stroke:#000000;stroke-width:0.8;\" x=\"337.908125\" xlink:href=\"#m1f8c212353\" y=\"224.64\"/>\n      </g>\n     </g>\n     <g id=\"text_9\">\n      <!-- 8 -->\n      <g transform=\"translate(334.726875 239.238437)scale(0.1 -0.1)\">\n       <defs>\n        <path d=\"M 31.78125 34.625 \nQ 24.75 34.625 20.71875 30.859375 \nQ 16.703125 27.09375 16.703125 20.515625 \nQ 16.703125 13.921875 20.71875 10.15625 \nQ 24.75 6.390625 31.78125 6.390625 \nQ 38.8125 6.390625 42.859375 10.171875 \nQ 46.921875 13.96875 46.921875 20.515625 \nQ 46.921875 27.09375 42.890625 30.859375 \nQ 38.875 34.625 31.78125 34.625 \nz\nM 21.921875 38.8125 \nQ 15.578125 40.375 12.03125 44.71875 \nQ 8.5 49.078125 8.5 55.328125 \nQ 8.5 64.0625 14.71875 69.140625 \nQ 20.953125 74.21875 31.78125 74.21875 \nQ 42.671875 74.21875 48.875 69.140625 \nQ 55.078125 64.0625 55.078125 55.328125 \nQ 55.078125 49.078125 51.53125 44.71875 \nQ 48 40.375 41.703125 38.8125 \nQ 48.828125 37.15625 52.796875 32.3125 \nQ 56.78125 27.484375 56.78125 20.515625 \nQ 56.78125 9.90625 50.3125 4.234375 \nQ 43.84375 -1.421875 31.78125 -1.421875 \nQ 19.734375 -1.421875 13.25 4.234375 \nQ 6.78125 9.90625 6.78125 20.515625 \nQ 6.78125 27.484375 10.78125 32.3125 \nQ 14.796875 37.15625 21.921875 38.8125 \nz\nM 18.3125 54.390625 \nQ 18.3125 48.734375 21.84375 45.5625 \nQ 25.390625 42.390625 31.78125 42.390625 \nQ 38.140625 42.390625 41.71875 45.5625 \nQ 45.3125 48.734375 45.3125 54.390625 \nQ 45.3125 60.0625 41.71875 63.234375 \nQ 38.140625 66.40625 31.78125 66.40625 \nQ 25.390625 66.40625 21.84375 63.234375 \nQ 18.3125 60.0625 18.3125 54.390625 \nz\n\" id=\"DejaVuSans-56\"/>\n       </defs>\n       <use xlink:href=\"#DejaVuSans-56\"/>\n      </g>\n     </g>\n    </g>\n    <g id=\"xtick_10\">\n     <g id=\"line2d_10\">\n      <g>\n       <use style=\"stroke:#000000;stroke-width:0.8;\" x=\"371.388125\" xlink:href=\"#m1f8c212353\" y=\"224.64\"/>\n      </g>\n     </g>\n     <g id=\"text_10\">\n      <!-- 9 -->\n      <g transform=\"translate(368.206875 239.238437)scale(0.1 -0.1)\">\n       <defs>\n        <path d=\"M 10.984375 1.515625 \nL 10.984375 10.5 \nQ 14.703125 8.734375 18.5 7.8125 \nQ 22.3125 6.890625 25.984375 6.890625 \nQ 35.75 6.890625 40.890625 13.453125 \nQ 46.046875 20.015625 46.78125 33.40625 \nQ 43.953125 29.203125 39.59375 26.953125 \nQ 35.25 24.703125 29.984375 24.703125 \nQ 19.046875 24.703125 12.671875 31.3125 \nQ 6.296875 37.9375 6.296875 49.421875 \nQ 6.296875 60.640625 12.9375 67.421875 \nQ 19.578125 74.21875 30.609375 74.21875 \nQ 43.265625 74.21875 49.921875 64.515625 \nQ 56.59375 54.828125 56.59375 36.375 \nQ 56.59375 19.140625 48.40625 8.859375 \nQ 40.234375 -1.421875 26.421875 -1.421875 \nQ 22.703125 -1.421875 18.890625 -0.6875 \nQ 15.09375 0.046875 10.984375 1.515625 \nz\nM 30.609375 32.421875 \nQ 37.25 32.421875 41.125 36.953125 \nQ 45.015625 41.5 45.015625 49.421875 \nQ 45.015625 57.28125 41.125 61.84375 \nQ 37.25 66.40625 30.609375 66.40625 \nQ 23.96875 66.40625 20.09375 61.84375 \nQ 16.21875 57.28125 16.21875 49.421875 \nQ 16.21875 41.5 20.09375 36.953125 \nQ 23.96875 32.421875 30.609375 32.421875 \nz\n\" id=\"DejaVuSans-57\"/>\n       </defs>\n       <use xlink:href=\"#DejaVuSans-57\"/>\n      </g>\n     </g>\n    </g>\n   </g>\n   <g id=\"matplotlib.axis_2\">\n    <g id=\"ytick_1\">\n     <g id=\"line2d_11\">\n      <defs>\n       <path d=\"M 0 0 \nL -3.5 0 \n\" id=\"md1e24d48df\" style=\"stroke:#000000;stroke-width:0.8;\"/>\n      </defs>\n      <g>\n       <use style=\"stroke:#000000;stroke-width:0.8;\" x=\"53.328125\" xlink:href=\"#md1e24d48df\" y=\"224.64\"/>\n      </g>\n     </g>\n     <g id=\"text_11\">\n      <!-- 0 -->\n      <g transform=\"translate(39.965625 228.439219)scale(0.1 -0.1)\">\n       <use xlink:href=\"#DejaVuSans-48\"/>\n      </g>\n     </g>\n    </g>\n    <g id=\"ytick_2\">\n     <g id=\"line2d_12\">\n      <g>\n       <use style=\"stroke:#000000;stroke-width:0.8;\" x=\"53.328125\" xlink:href=\"#md1e24d48df\" y=\"180.428703\"/>\n      </g>\n     </g>\n     <g id=\"text_12\">\n      <!-- 1000 -->\n      <g transform=\"translate(20.878125 184.227922)scale(0.1 -0.1)\">\n       <use xlink:href=\"#DejaVuSans-49\"/>\n       <use x=\"63.623047\" xlink:href=\"#DejaVuSans-48\"/>\n       <use x=\"127.246094\" xlink:href=\"#DejaVuSans-48\"/>\n       <use x=\"190.869141\" xlink:href=\"#DejaVuSans-48\"/>\n      </g>\n     </g>\n    </g>\n    <g id=\"ytick_3\">\n     <g id=\"line2d_13\">\n      <g>\n       <use style=\"stroke:#000000;stroke-width:0.8;\" x=\"53.328125\" xlink:href=\"#md1e24d48df\" y=\"136.217406\"/>\n      </g>\n     </g>\n     <g id=\"text_13\">\n      <!-- 2000 -->\n      <g transform=\"translate(20.878125 140.016625)scale(0.1 -0.1)\">\n       <use xlink:href=\"#DejaVuSans-50\"/>\n       <use x=\"63.623047\" xlink:href=\"#DejaVuSans-48\"/>\n       <use x=\"127.246094\" xlink:href=\"#DejaVuSans-48\"/>\n       <use x=\"190.869141\" xlink:href=\"#DejaVuSans-48\"/>\n      </g>\n     </g>\n    </g>\n    <g id=\"ytick_4\">\n     <g id=\"line2d_14\">\n      <g>\n       <use style=\"stroke:#000000;stroke-width:0.8;\" x=\"53.328125\" xlink:href=\"#md1e24d48df\" y=\"92.00611\"/>\n      </g>\n     </g>\n     <g id=\"text_14\">\n      <!-- 3000 -->\n      <g transform=\"translate(20.878125 95.805328)scale(0.1 -0.1)\">\n       <use xlink:href=\"#DejaVuSans-51\"/>\n       <use x=\"63.623047\" xlink:href=\"#DejaVuSans-48\"/>\n       <use x=\"127.246094\" xlink:href=\"#DejaVuSans-48\"/>\n       <use x=\"190.869141\" xlink:href=\"#DejaVuSans-48\"/>\n      </g>\n     </g>\n    </g>\n    <g id=\"ytick_5\">\n     <g id=\"line2d_15\">\n      <g>\n       <use style=\"stroke:#000000;stroke-width:0.8;\" x=\"53.328125\" xlink:href=\"#md1e24d48df\" y=\"47.794813\"/>\n      </g>\n     </g>\n     <g id=\"text_15\">\n      <!-- 4000 -->\n      <g transform=\"translate(20.878125 51.594031)scale(0.1 -0.1)\">\n       <use xlink:href=\"#DejaVuSans-52\"/>\n       <use x=\"63.623047\" xlink:href=\"#DejaVuSans-48\"/>\n       <use x=\"127.246094\" xlink:href=\"#DejaVuSans-48\"/>\n       <use x=\"190.869141\" xlink:href=\"#DejaVuSans-48\"/>\n      </g>\n     </g>\n    </g>\n    <g id=\"text_16\">\n     <!-- count -->\n     <g transform=\"translate(14.798438 130.02625)rotate(-90)scale(0.1 -0.1)\">\n      <defs>\n       <path d=\"M 48.78125 52.59375 \nL 48.78125 44.1875 \nQ 44.96875 46.296875 41.140625 47.34375 \nQ 37.3125 48.390625 33.40625 48.390625 \nQ 24.65625 48.390625 19.8125 42.84375 \nQ 14.984375 37.3125 14.984375 27.296875 \nQ 14.984375 17.28125 19.8125 11.734375 \nQ 24.65625 6.203125 33.40625 6.203125 \nQ 37.3125 6.203125 41.140625 7.25 \nQ 44.96875 8.296875 48.78125 10.40625 \nL 48.78125 2.09375 \nQ 45.015625 0.34375 40.984375 -0.53125 \nQ 36.96875 -1.421875 32.421875 -1.421875 \nQ 20.0625 -1.421875 12.78125 6.34375 \nQ 5.515625 14.109375 5.515625 27.296875 \nQ 5.515625 40.671875 12.859375 48.328125 \nQ 20.21875 56 33.015625 56 \nQ 37.15625 56 41.109375 55.140625 \nQ 45.0625 54.296875 48.78125 52.59375 \nz\n\" id=\"DejaVuSans-99\"/>\n       <path d=\"M 30.609375 48.390625 \nQ 23.390625 48.390625 19.1875 42.75 \nQ 14.984375 37.109375 14.984375 27.296875 \nQ 14.984375 17.484375 19.15625 11.84375 \nQ 23.34375 6.203125 30.609375 6.203125 \nQ 37.796875 6.203125 41.984375 11.859375 \nQ 46.1875 17.53125 46.1875 27.296875 \nQ 46.1875 37.015625 41.984375 42.703125 \nQ 37.796875 48.390625 30.609375 48.390625 \nz\nM 30.609375 56 \nQ 42.328125 56 49.015625 48.375 \nQ 55.71875 40.765625 55.71875 27.296875 \nQ 55.71875 13.875 49.015625 6.21875 \nQ 42.328125 -1.421875 30.609375 -1.421875 \nQ 18.84375 -1.421875 12.171875 6.21875 \nQ 5.515625 13.875 5.515625 27.296875 \nQ 5.515625 40.765625 12.171875 48.375 \nQ 18.84375 56 30.609375 56 \nz\n\" id=\"DejaVuSans-111\"/>\n       <path d=\"M 8.5 21.578125 \nL 8.5 54.6875 \nL 17.484375 54.6875 \nL 17.484375 21.921875 \nQ 17.484375 14.15625 20.5 10.265625 \nQ 23.53125 6.390625 29.59375 6.390625 \nQ 36.859375 6.390625 41.078125 11.03125 \nQ 45.3125 15.671875 45.3125 23.6875 \nL 45.3125 54.6875 \nL 54.296875 54.6875 \nL 54.296875 0 \nL 45.3125 0 \nL 45.3125 8.40625 \nQ 42.046875 3.421875 37.71875 1 \nQ 33.40625 -1.421875 27.6875 -1.421875 \nQ 18.265625 -1.421875 13.375 4.4375 \nQ 8.5 10.296875 8.5 21.578125 \nz\nM 31.109375 56 \nz\n\" id=\"DejaVuSans-117\"/>\n       <path d=\"M 54.890625 33.015625 \nL 54.890625 0 \nL 45.90625 0 \nL 45.90625 32.71875 \nQ 45.90625 40.484375 42.875 44.328125 \nQ 39.84375 48.1875 33.796875 48.1875 \nQ 26.515625 48.1875 22.3125 43.546875 \nQ 18.109375 38.921875 18.109375 30.90625 \nL 18.109375 0 \nL 9.078125 0 \nL 9.078125 54.6875 \nL 18.109375 54.6875 \nL 18.109375 46.1875 \nQ 21.34375 51.125 25.703125 53.5625 \nQ 30.078125 56 35.796875 56 \nQ 45.21875 56 50.046875 50.171875 \nQ 54.890625 44.34375 54.890625 33.015625 \nz\n\" id=\"DejaVuSans-110\"/>\n       <path d=\"M 18.3125 70.21875 \nL 18.3125 54.6875 \nL 36.8125 54.6875 \nL 36.8125 47.703125 \nL 18.3125 47.703125 \nL 18.3125 18.015625 \nQ 18.3125 11.328125 20.140625 9.421875 \nQ 21.96875 7.515625 27.59375 7.515625 \nL 36.8125 7.515625 \nL 36.8125 0 \nL 27.59375 0 \nQ 17.1875 0 13.234375 3.875 \nQ 9.28125 7.765625 9.28125 18.015625 \nL 9.28125 47.703125 \nL 2.6875 47.703125 \nL 2.6875 54.6875 \nL 9.28125 54.6875 \nL 9.28125 70.21875 \nz\n\" id=\"DejaVuSans-116\"/>\n      </defs>\n      <use xlink:href=\"#DejaVuSans-99\"/>\n      <use x=\"54.980469\" xlink:href=\"#DejaVuSans-111\"/>\n      <use x=\"116.162109\" xlink:href=\"#DejaVuSans-117\"/>\n      <use x=\"179.541016\" xlink:href=\"#DejaVuSans-110\"/>\n      <use x=\"242.919922\" xlink:href=\"#DejaVuSans-116\"/>\n     </g>\n    </g>\n   </g>\n   <g id=\"patch_13\">\n    <path d=\"M 53.328125 224.64 \nL 53.328125 7.2 \n\" style=\"fill:none;stroke:#000000;stroke-linecap:square;stroke-linejoin:miter;stroke-width:0.8;\"/>\n   </g>\n   <g id=\"patch_14\">\n    <path d=\"M 388.128125 224.64 \nL 388.128125 7.2 \n\" style=\"fill:none;stroke:#000000;stroke-linecap:square;stroke-linejoin:miter;stroke-width:0.8;\"/>\n   </g>\n   <g id=\"patch_15\">\n    <path d=\"M 53.328125 224.64 \nL 388.128125 224.64 \n\" style=\"fill:none;stroke:#000000;stroke-linecap:square;stroke-linejoin:miter;stroke-width:0.8;\"/>\n   </g>\n   <g id=\"patch_16\">\n    <path d=\"M 53.328125 7.2 \nL 388.128125 7.2 \n\" style=\"fill:none;stroke:#000000;stroke-linecap:square;stroke-linejoin:miter;stroke-width:0.8;\"/>\n   </g>\n  </g>\n </g>\n <defs>\n  <clipPath id=\"pab8a7a56d7\">\n   <rect height=\"217.44\" width=\"334.8\" x=\"53.328125\" y=\"7.2\"/>\n  </clipPath>\n </defs>\n</svg>\n",
      "image/png": "[encoded data removed]"
     },
     "metadata": {
      "needs_background": "light"
     }
    }
   ],
   "source": [
    "x_train = train.drop(\"label\", axis=1).to_numpy()\n",
    "y_train = train[\"label\"].to_numpy()\n",
    "label_counts = sns.countplot(y_train)"
   ]
  },
  {
   "source": [
    "# 2. Train\n",
    "## 2.1. Multiclass classification"
   ],
   "cell_type": "markdown",
   "metadata": {}
  },
  {
   "cell_type": "code",
   "execution_count": 4,
   "metadata": {},
   "outputs": [],
   "source": [
    "from sklearn.preprocessing import StandardScaler\n",
    "scaler = StandardScaler()\n",
    "x_train_scaled = scaler.fit_transform(x_train.astype(np.float64))"
   ]
  },
  {
   "cell_type": "code",
   "execution_count": 5,
   "metadata": {},
   "outputs": [
    {
     "output_type": "execute_result",
     "data": {
      "text/plain": [
       "0.9562380952380952"
      ]
     },
     "metadata": {},
     "execution_count": 5
    }
   ],
   "source": [
    "# Support vector classifier using one vs one strategy\n",
    "from sklearn.model_selection import cross_val_score\n",
    "from sklearn.svm import SVC\n",
    "svm_clf = SVC(gamma=\"auto\", random_state=42)\n",
    "svm_clf_scores = cross_val_score(svm_clf, x_train_scaled, y_train, cv=3, scoring=\"accuracy\")\n",
    "svm_clf_scores.mean()"
   ]
  },
  {
   "cell_type": "code",
   "execution_count": 6,
   "metadata": {},
   "outputs": [
    {
     "output_type": "execute_result",
     "data": {
      "text/plain": [
       "0.9564761904761906"
      ]
     },
     "metadata": {},
     "execution_count": 6
    }
   ],
   "source": [
    "# Support vector classifier using one vs rest strategy\n",
    "from sklearn.multiclass import OneVsRestClassifier\n",
    "ovr_clf = OneVsRestClassifier(SVC(gamma=\"auto\", random_state=42))\n",
    "ovr_clf_scores = cross_val_score(ovr_clf, x_train_scaled, y_train, cv=3, scoring=\"accuracy\")\n",
    "ovr_clf_scores.mean()"
   ]
  },
  {
   "cell_type": "code",
   "execution_count": 7,
   "metadata": {},
   "outputs": [
    {
     "output_type": "execute_result",
     "data": {
      "text/plain": [
       "0.9084761904761903"
      ]
     },
     "metadata": {},
     "execution_count": 7
    }
   ],
   "source": [
    "# Stochastic gradient descent classifier\n",
    "from sklearn.linear_model import SGDClassifier\n",
    "sgd_clf = SGDClassifier(max_iter=1000, tol=1e-3, random_state=42)\n",
    "sgd_clf_scores = cross_val_score(sgd_clf, x_train_scaled, y_train, cv=3, scoring=\"accuracy\")\n",
    "sgd_clf_scores.mean()"
   ]
  },
  {
   "cell_type": "code",
   "execution_count": 8,
   "metadata": {},
   "outputs": [
    {
     "output_type": "execute_result",
     "data": {
      "text/plain": [
       "0.9387619047619048"
      ]
     },
     "metadata": {},
     "execution_count": 8
    }
   ],
   "source": [
    "# K-nearest neighbours classifier\n",
    "from sklearn.neighbors import KNeighborsClassifier\n",
    "knn_clf = KNeighborsClassifier(weights='distance', n_neighbors=4)\n",
    "knn_clf_scores = cross_val_score(knn_clf, x_train_scaled, y_train, cv=3, scoring=\"accuracy\")\n",
    "knn_clf_scores.mean()"
   ]
  },
  {
   "cell_type": "code",
   "execution_count": 9,
   "metadata": {},
   "outputs": [
    {
     "output_type": "execute_result",
     "data": {
      "text/plain": [
       "0.9607380952380953"
      ]
     },
     "metadata": {},
     "execution_count": 9
    }
   ],
   "source": [
    "# Random forest classifier\n",
    "from sklearn.ensemble import RandomForestClassifier\n",
    "rnd_clf = RandomForestClassifier(n_estimators=100, random_state=42)\n",
    "rnd_clf_scores = cross_val_score(rnd_clf, x_train_scaled, y_train, cv=3, scoring=\"accuracy\")\n",
    "rnd_clf_scores.mean()"
   ]
  },
  {
   "source": [
    "## 2.2. Neural networks and deep learning"
   ],
   "cell_type": "markdown",
   "metadata": {}
  },
  {
   "cell_type": "code",
   "execution_count": 10,
   "metadata": {},
   "outputs": [],
   "source": [
    "import tensorflow as tf\n",
    "from tensorflow import keras"
   ]
  },
  {
   "cell_type": "code",
   "execution_count": 18,
   "metadata": {},
   "outputs": [
    {
     "output_type": "execute_result",
     "data": {
      "text/plain": [
       "(42000, 28, 28)"
      ]
     },
     "metadata": {},
     "execution_count": 18
    }
   ],
   "source": [
    "x_train = (train.iloc[:,1:].values).astype('float32')\n",
    "x_train = x_train.reshape(x_train.shape[0], 28, 28)\n",
    "y_train = train.iloc[:,0].values.astype('int32')\n",
    "x_train.shape"
   ]
  },
  {
   "cell_type": "code",
   "execution_count": 19,
   "metadata": {},
   "outputs": [],
   "source": [
    "x_train = x_train / 255.\n",
    "from keras.utils.np_utils import to_categorical\n",
    "y_train = to_categorical(y_train)"
   ]
  },
  {
   "cell_type": "code",
   "execution_count": 13,
   "metadata": {},
   "outputs": [
    {
     "output_type": "display_data",
     "data": {
      "text/plain": "<Figure size 432x288 with 1 Axes>",
      "image/svg+xml": "<?xml version=\"1.0\" encoding=\"utf-8\" standalone=\"no\"?>\n<!DOCTYPE svg PUBLIC \"-//W3C//DTD SVG 1.1//EN\"\n  \"http://www.w3.org/Graphics/SVG/1.1/DTD/svg11.dtd\">\n<!-- Created with matplotlib (https://matplotlib.org/) -->\n<svg height=\"231.84pt\" version=\"1.1\" viewBox=\"0 0 231.84 231.84\" width=\"231.84pt\" xmlns=\"http://www.w3.org/2000/svg\" xmlns:xlink=\"http://www.w3.org/1999/xlink\">\n <metadata>\n  <rdf:RDF xmlns:cc=\"http://creativecommons.org/ns#\" xmlns:dc=\"http://purl.org/dc/elements/1.1/\" xmlns:rdf=\"http://www.w3.org/1999/02/22-rdf-syntax-ns#\">\n   <cc:Work>\n    <dc:type rdf:resource=\"http://purl.org/dc/dcmitype/StillImage\"/>\n    <dc:date>2020-11-08T20:58:38.566370</dc:date>\n    <dc:format>image/svg+xml</dc:format>\n    <dc:creator>\n     <cc:Agent>\n      <dc:title>Matplotlib v3.3.0, https://matplotlib.org/</dc:title>\n     </cc:Agent>\n    </dc:creator>\n   </cc:Work>\n  </rdf:RDF>\n </metadata>\n <defs>\n  <style type=\"text/css\">*{stroke-linecap:butt;stroke-linejoin:round;}</style>\n </defs>\n <g id=\"figure_1\">\n  <g id=\"patch_1\">\n   <path d=\"M 0 231.84 \nL 231.84 231.84 \nL 231.84 0 \nL 0 0 \nz\n\" style=\"fill:none;\"/>\n  </g>\n  <g id=\"axes_1\">\n   <g clip-path=\"url(#pb1e47f5919)\">\n    <image height=\"218\" id=\"image57aeaa6731\" transform=\"scale(1 -1)translate(0 -218)\" width=\"218\" x=\"7.2\" xlink:href=\"data:image/png;base64,\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\" y=\"-6.64\"/>\n   </g>\n  </g>\n </g>\n <defs>\n  <clipPath id=\"pb1e47f5919\">\n   <rect height=\"217.44\" width=\"217.44\" x=\"7.2\" y=\"7.2\"/>\n  </clipPath>\n </defs>\n</svg>\n",
      "image/png": "[encoded data removed]"
     },
     "metadata": {
      "needs_background": "light"
     }
    }
   ],
   "source": [
    "import matplotlib.pyplot as plt\n",
    "plt.imshow(x_train[100], cmap=\"binary\")\n",
    "plt.axis('off')\n",
    "plt.show()"
   ]
  },
  {
   "cell_type": "code",
   "execution_count": 14,
   "metadata": {},
   "outputs": [
    {
     "output_type": "stream",
     "name": "stdout",
     "text": [
      "Epoch 1/100\n",
      "1313/1313 [==============================] - 2s 2ms/step - loss: 1.9324 - accuracy: 0.4634\n",
      "Epoch 2/100\n",
      "1313/1313 [==============================] - 2s 2ms/step - loss: 1.1325 - accuracy: 0.7909\n",
      "Epoch 3/100\n",
      "1313/1313 [==============================] - 2s 1ms/step - loss: 0.7346 - accuracy: 0.8401\n",
      "Epoch 4/100\n",
      "1313/1313 [==============================] - 2s 1ms/step - loss: 0.5734 - accuracy: 0.8615\n",
      "Epoch 5/100\n",
      "1313/1313 [==============================] - 2s 2ms/step - loss: 0.4926 - accuracy: 0.8746\n",
      "Epoch 6/100\n",
      "1313/1313 [==============================] - 2s 1ms/step - loss: 0.4440 - accuracy: 0.8825\n",
      "Epoch 7/100\n",
      "1313/1313 [==============================] - 2s 1ms/step - loss: 0.4114 - accuracy: 0.8889\n",
      "Epoch 8/100\n",
      "1313/1313 [==============================] - 2s 2ms/step - loss: 0.3876 - accuracy: 0.8929\n",
      "Epoch 9/100\n",
      "1313/1313 [==============================] - 2s 1ms/step - loss: 0.3692 - accuracy: 0.8969\n",
      "Epoch 10/100\n",
      "1313/1313 [==============================] - 2s 2ms/step - loss: 0.3542 - accuracy: 0.9003\n",
      "Epoch 11/100\n",
      "1313/1313 [==============================] - 2s 2ms/step - loss: 0.3417 - accuracy: 0.9031\n",
      "Epoch 12/100\n",
      "1313/1313 [==============================] - 2s 1ms/step - loss: 0.3309 - accuracy: 0.9064\n",
      "Epoch 13/100\n",
      "1313/1313 [==============================] - 2s 2ms/step - loss: 0.3215 - accuracy: 0.9086\n",
      "Epoch 14/100\n",
      "1313/1313 [==============================] - 2s 1ms/step - loss: 0.3132 - accuracy: 0.9110\n",
      "Epoch 15/100\n",
      "1313/1313 [==============================] - 2s 1ms/step - loss: 0.3055 - accuracy: 0.9130\n",
      "Epoch 16/100\n",
      "1313/1313 [==============================] - 2s 2ms/step - loss: 0.2985 - accuracy: 0.9149\n",
      "Epoch 17/100\n",
      "1313/1313 [==============================] - 2s 1ms/step - loss: 0.2921 - accuracy: 0.9165\n",
      "Epoch 18/100\n",
      "1313/1313 [==============================] - 2s 1ms/step - loss: 0.2861 - accuracy: 0.9184\n",
      "Epoch 19/100\n",
      "1313/1313 [==============================] - 2s 1ms/step - loss: 0.2806 - accuracy: 0.9196\n",
      "Epoch 20/100\n",
      "1313/1313 [==============================] - 2s 1ms/step - loss: 0.2753 - accuracy: 0.9213\n",
      "Epoch 21/100\n",
      "1313/1313 [==============================] - 2s 1ms/step - loss: 0.2705 - accuracy: 0.9228\n",
      "Epoch 22/100\n",
      "1313/1313 [==============================] - 2s 1ms/step - loss: 0.2658 - accuracy: 0.9240\n",
      "Epoch 23/100\n",
      "1313/1313 [==============================] - 2s 1ms/step - loss: 0.2613 - accuracy: 0.9257\n",
      "Epoch 24/100\n",
      "1313/1313 [==============================] - 2s 1ms/step - loss: 0.2572 - accuracy: 0.9269\n",
      "Epoch 25/100\n",
      "1313/1313 [==============================] - 2s 2ms/step - loss: 0.2531 - accuracy: 0.9281\n",
      "Epoch 26/100\n",
      "1313/1313 [==============================] - 2s 2ms/step - loss: 0.2492 - accuracy: 0.9290\n",
      "Epoch 27/100\n",
      "1313/1313 [==============================] - 2s 2ms/step - loss: 0.2454 - accuracy: 0.9303\n",
      "Epoch 28/100\n",
      "1313/1313 [==============================] - 2s 1ms/step - loss: 0.2418 - accuracy: 0.9312\n",
      "Epoch 29/100\n",
      "1313/1313 [==============================] - 2s 1ms/step - loss: 0.2383 - accuracy: 0.9321\n",
      "Epoch 30/100\n",
      "1313/1313 [==============================] - 3s 2ms/step - loss: 0.2349 - accuracy: 0.9330\n",
      "Epoch 31/100\n",
      "1313/1313 [==============================] - 2s 2ms/step - loss: 0.2315 - accuracy: 0.9343\n",
      "Epoch 32/100\n",
      "1313/1313 [==============================] - 3s 2ms/step - loss: 0.2283 - accuracy: 0.9348\n",
      "Epoch 33/100\n",
      "1313/1313 [==============================] - 3s 2ms/step - loss: 0.2252 - accuracy: 0.9360\n",
      "Epoch 34/100\n",
      "1313/1313 [==============================] - 3s 2ms/step - loss: 0.2222 - accuracy: 0.9370\n",
      "Epoch 35/100\n",
      "1313/1313 [==============================] - 2s 2ms/step - loss: 0.2193 - accuracy: 0.9375\n",
      "Epoch 36/100\n",
      "1313/1313 [==============================] - 2s 2ms/step - loss: 0.2163 - accuracy: 0.9389\n",
      "Epoch 37/100\n",
      "1313/1313 [==============================] - 2s 2ms/step - loss: 0.2136 - accuracy: 0.9394\n",
      "Epoch 38/100\n",
      "1313/1313 [==============================] - 2s 2ms/step - loss: 0.2109 - accuracy: 0.9404\n",
      "Epoch 39/100\n",
      "1313/1313 [==============================] - 4s 3ms/step - loss: 0.2082 - accuracy: 0.9408\n",
      "Epoch 40/100\n",
      "1313/1313 [==============================] - 3s 2ms/step - loss: 0.2056 - accuracy: 0.9418\n",
      "Epoch 41/100\n",
      "1313/1313 [==============================] - 3s 2ms/step - loss: 0.2029 - accuracy: 0.9424\n",
      "Epoch 42/100\n",
      "1313/1313 [==============================] - 3s 2ms/step - loss: 0.2005 - accuracy: 0.9430\n",
      "Epoch 43/100\n",
      "1313/1313 [==============================] - 2s 2ms/step - loss: 0.1981 - accuracy: 0.9438\n",
      "Epoch 44/100\n",
      "1313/1313 [==============================] - 2s 1ms/step - loss: 0.1958 - accuracy: 0.9443\n",
      "Epoch 45/100\n",
      "1313/1313 [==============================] - 2s 2ms/step - loss: 0.1934 - accuracy: 0.9447\n",
      "Epoch 46/100\n",
      "1313/1313 [==============================] - 2s 1ms/step - loss: 0.1909 - accuracy: 0.9458\n",
      "Epoch 47/100\n",
      "1313/1313 [==============================] - 2s 1ms/step - loss: 0.1888 - accuracy: 0.9464\n",
      "Epoch 48/100\n",
      "1313/1313 [==============================] - 2s 1ms/step - loss: 0.1865 - accuracy: 0.9470\n",
      "Epoch 49/100\n",
      "1313/1313 [==============================] - 2s 1ms/step - loss: 0.1844 - accuracy: 0.9481\n",
      "Epoch 50/100\n",
      "1313/1313 [==============================] - 2s 2ms/step - loss: 0.1821 - accuracy: 0.9484\n",
      "Epoch 51/100\n",
      "1313/1313 [==============================] - 2s 2ms/step - loss: 0.1802 - accuracy: 0.9490\n",
      "Epoch 52/100\n",
      "1313/1313 [==============================] - 2s 2ms/step - loss: 0.1782 - accuracy: 0.9498\n",
      "Epoch 53/100\n",
      "1313/1313 [==============================] - 2s 1ms/step - loss: 0.1761 - accuracy: 0.9505\n",
      "Epoch 54/100\n",
      "1313/1313 [==============================] - 2s 2ms/step - loss: 0.1742 - accuracy: 0.9512\n",
      "Epoch 55/100\n",
      "1313/1313 [==============================] - 2s 2ms/step - loss: 0.1723 - accuracy: 0.9514\n",
      "Epoch 56/100\n",
      "1313/1313 [==============================] - 2s 1ms/step - loss: 0.1704 - accuracy: 0.9520\n",
      "Epoch 57/100\n",
      "1313/1313 [==============================] - 2s 2ms/step - loss: 0.1684 - accuracy: 0.9526\n",
      "Epoch 58/100\n",
      "1313/1313 [==============================] - 2s 1ms/step - loss: 0.1667 - accuracy: 0.9528\n",
      "Epoch 59/100\n",
      "1313/1313 [==============================] - 2s 2ms/step - loss: 0.1650 - accuracy: 0.9537\n",
      "Epoch 60/100\n",
      "1313/1313 [==============================] - 2s 1ms/step - loss: 0.1631 - accuracy: 0.9543\n",
      "Epoch 61/100\n",
      "1313/1313 [==============================] - 2s 1ms/step - loss: 0.1615 - accuracy: 0.9548\n",
      "Epoch 62/100\n",
      "1313/1313 [==============================] - 2s 1ms/step - loss: 0.1598 - accuracy: 0.9554\n",
      "Epoch 63/100\n",
      "1313/1313 [==============================] - 2s 2ms/step - loss: 0.1581 - accuracy: 0.9559\n",
      "Epoch 64/100\n",
      "1313/1313 [==============================] - 2s 2ms/step - loss: 0.1565 - accuracy: 0.9562\n",
      "Epoch 65/100\n",
      "1313/1313 [==============================] - 2s 2ms/step - loss: 0.1549 - accuracy: 0.9565\n",
      "Epoch 66/100\n",
      "1313/1313 [==============================] - 2s 2ms/step - loss: 0.1533 - accuracy: 0.9571\n",
      "Epoch 67/100\n",
      "1313/1313 [==============================] - 2s 2ms/step - loss: 0.1518 - accuracy: 0.9575\n",
      "Epoch 68/100\n",
      "1313/1313 [==============================] - 2s 2ms/step - loss: 0.1502 - accuracy: 0.9580\n",
      "Epoch 69/100\n",
      "1313/1313 [==============================] - 2s 2ms/step - loss: 0.1487 - accuracy: 0.9589\n",
      "Epoch 70/100\n",
      "1313/1313 [==============================] - 3s 3ms/step - loss: 0.1472 - accuracy: 0.9593\n",
      "Epoch 71/100\n",
      "1313/1313 [==============================] - 2s 1ms/step - loss: 0.1457 - accuracy: 0.9594\n",
      "Epoch 72/100\n",
      "1313/1313 [==============================] - 2s 1ms/step - loss: 0.1443 - accuracy: 0.9603\n",
      "Epoch 73/100\n",
      "1313/1313 [==============================] - 2s 1ms/step - loss: 0.1429 - accuracy: 0.9608\n",
      "Epoch 74/100\n",
      "1313/1313 [==============================] - 2s 2ms/step - loss: 0.1415 - accuracy: 0.9607\n",
      "Epoch 75/100\n",
      "1313/1313 [==============================] - 2s 2ms/step - loss: 0.1401 - accuracy: 0.9611\n",
      "Epoch 76/100\n",
      "1313/1313 [==============================] - 2s 2ms/step - loss: 0.1388 - accuracy: 0.9612\n",
      "Epoch 77/100\n",
      "1313/1313 [==============================] - 2s 2ms/step - loss: 0.1375 - accuracy: 0.9622\n",
      "Epoch 78/100\n",
      "1313/1313 [==============================] - 3s 2ms/step - loss: 0.1363 - accuracy: 0.9620\n",
      "Epoch 79/100\n",
      "1313/1313 [==============================] - 2s 1ms/step - loss: 0.1349 - accuracy: 0.9624\n",
      "Epoch 80/100\n",
      "1313/1313 [==============================] - 2s 2ms/step - loss: 0.1336 - accuracy: 0.9626\n",
      "Epoch 81/100\n",
      "1313/1313 [==============================] - 2s 2ms/step - loss: 0.1325 - accuracy: 0.9629\n",
      "Epoch 82/100\n",
      "1313/1313 [==============================] - 2s 1ms/step - loss: 0.1312 - accuracy: 0.9638\n",
      "Epoch 83/100\n",
      "1313/1313 [==============================] - 2s 1ms/step - loss: 0.1301 - accuracy: 0.9640\n",
      "Epoch 84/100\n",
      "1313/1313 [==============================] - 2s 1ms/step - loss: 0.1289 - accuracy: 0.9645\n",
      "Epoch 85/100\n",
      "1313/1313 [==============================] - 2s 1ms/step - loss: 0.1277 - accuracy: 0.9649\n",
      "Epoch 86/100\n",
      "1313/1313 [==============================] - 2s 1ms/step - loss: 0.1265 - accuracy: 0.9650\n",
      "Epoch 87/100\n",
      "1313/1313 [==============================] - 2s 1ms/step - loss: 0.1254 - accuracy: 0.9653\n",
      "Epoch 88/100\n",
      "1313/1313 [==============================] - 2s 2ms/step - loss: 0.1242 - accuracy: 0.9657\n",
      "Epoch 89/100\n",
      "1313/1313 [==============================] - 2s 2ms/step - loss: 0.1232 - accuracy: 0.9657\n",
      "Epoch 90/100\n",
      "1313/1313 [==============================] - 2s 1ms/step - loss: 0.1222 - accuracy: 0.9663\n",
      "Epoch 91/100\n",
      "1313/1313 [==============================] - 2s 2ms/step - loss: 0.1211 - accuracy: 0.9666\n",
      "Epoch 92/100\n",
      "1313/1313 [==============================] - 2s 2ms/step - loss: 0.1200 - accuracy: 0.9665\n",
      "Epoch 93/100\n",
      "1313/1313 [==============================] - 2s 2ms/step - loss: 0.1190 - accuracy: 0.9672\n",
      "Epoch 94/100\n",
      "1313/1313 [==============================] - 2s 2ms/step - loss: 0.1180 - accuracy: 0.9674\n",
      "Epoch 95/100\n",
      "1313/1313 [==============================] - 2s 2ms/step - loss: 0.1170 - accuracy: 0.9678\n",
      "Epoch 96/100\n",
      "1313/1313 [==============================] - 2s 2ms/step - loss: 0.1160 - accuracy: 0.9679\n",
      "Epoch 97/100\n",
      "1313/1313 [==============================] - 2s 2ms/step - loss: 0.1150 - accuracy: 0.9682\n",
      "Epoch 98/100\n",
      "1313/1313 [==============================] - 2s 2ms/step - loss: 0.1140 - accuracy: 0.9684\n",
      "Epoch 99/100\n",
      "1313/1313 [==============================] - 2s 2ms/step - loss: 0.1131 - accuracy: 0.9687\n",
      "Epoch 100/100\n",
      "1313/1313 [==============================] - 2s 2ms/step - loss: 0.1121 - accuracy: 0.9691\n"
     ]
    },
    {
     "output_type": "execute_result",
     "data": {
      "text/plain": [
       "<tensorflow.python.keras.callbacks.History at 0x7fa84bff0ca0>"
      ]
     },
     "metadata": {},
     "execution_count": 14
    }
   ],
   "source": [
    "# Multi-layer perceptron classifier\n",
    "keras.backend.clear_session()\n",
    "np.random.seed(42)\n",
    "tf.random.set_seed(42)\n",
    "\n",
    "model = keras.models.Sequential([\n",
    "    keras.layers.Flatten(input_shape=[28, 28]),\n",
    "    keras.layers.Dense(300, activation=\"relu\"),\n",
    "    keras.layers.Dense(100, activation=\"relu\"),\n",
    "    keras.layers.Dense(10, activation=\"softmax\")\n",
    "])\n",
    "model.compile(loss=\"categorical_crossentropy\",\n",
    "              optimizer=keras.optimizers.SGD(lr=1e-3),\n",
    "              metrics=[\"accuracy\"])\n",
    "model.fit(x_train, y_train, epochs=100)"
   ]
  },
  {
   "cell_type": "code",
   "execution_count": 20,
   "metadata": {},
   "outputs": [],
   "source": [
    "x_train = x_train[..., np.newaxis]"
   ]
  },
  {
   "cell_type": "code",
   "execution_count": 21,
   "metadata": {},
   "outputs": [
    {
     "output_type": "stream",
     "name": "stdout",
     "text": [
      "Epoch 1/10\n",
      "1313/1313 [==============================] - 90s 69ms/step - loss: 0.2171 - accuracy: 0.9334\n",
      "Epoch 2/10\n",
      "1313/1313 [==============================] - 93s 71ms/step - loss: 0.0891 - accuracy: 0.9728\n",
      "Epoch 3/10\n",
      "1313/1313 [==============================] - 85s 65ms/step - loss: 0.0665 - accuracy: 0.9797\n",
      "Epoch 4/10\n",
      "1313/1313 [==============================] - 85s 65ms/step - loss: 0.0522 - accuracy: 0.9834\n",
      "Epoch 5/10\n",
      "1313/1313 [==============================] - 83s 63ms/step - loss: 0.0452 - accuracy: 0.9857\n",
      "Epoch 6/10\n",
      "1313/1313 [==============================] - 85s 65ms/step - loss: 0.0393 - accuracy: 0.9870\n",
      "Epoch 7/10\n",
      "1313/1313 [==============================] - 84s 64ms/step - loss: 0.0364 - accuracy: 0.9889\n",
      "Epoch 8/10\n",
      "1313/1313 [==============================] - 103s 79ms/step - loss: 0.0316 - accuracy: 0.9894\n",
      "Epoch 9/10\n",
      "1313/1313 [==============================] - 105s 80ms/step - loss: 0.0281 - accuracy: 0.9911\n",
      "Epoch 10/10\n",
      "1313/1313 [==============================] - 88s 67ms/step - loss: 0.0247 - accuracy: 0.9920\n"
     ]
    },
    {
     "output_type": "execute_result",
     "data": {
      "text/plain": [
       "<tensorflow.python.keras.callbacks.History at 0x7fa80c29a460>"
      ]
     },
     "metadata": {},
     "execution_count": 21
    }
   ],
   "source": [
    "# Convolutional neural network\n",
    "keras.backend.clear_session()\n",
    "tf.random.set_seed(42)\n",
    "np.random.seed(42)\n",
    "\n",
    "model = keras.models.Sequential([\n",
    "    keras.layers.Conv2D(32, kernel_size=3, padding=\"same\", activation=\"relu\"),\n",
    "    keras.layers.Conv2D(64, kernel_size=3, padding=\"same\", activation=\"relu\"),\n",
    "    keras.layers.MaxPool2D(),\n",
    "    keras.layers.Flatten(),\n",
    "    keras.layers.Dropout(0.25),\n",
    "    keras.layers.Dense(128, activation=\"relu\"),\n",
    "    keras.layers.Dropout(0.5),\n",
    "    keras.layers.Dense(10, activation=\"softmax\")\n",
    "])\n",
    "model.compile(loss=\"categorical_crossentropy\",\n",
    "              optimizer=\"nadam\",\n",
    "              metrics=[\"accuracy\"])\n",
    "model.fit(x_train, y_train, epochs=10)"
   ]
  },
  {
   "source": [
    "# 3. Submit prediction"
   ],
   "cell_type": "markdown",
   "metadata": {}
  },
  {
   "cell_type": "code",
   "execution_count": 22,
   "metadata": {},
   "outputs": [],
   "source": [
    "x_test = (test.iloc[:,:].values).astype('float32')\n",
    "x_test = x_test.reshape(-1, 28, 28)\n",
    "x_test = x_test / 255.\n",
    "x_test = x_test[..., np.newaxis]"
   ]
  },
  {
   "cell_type": "code",
   "execution_count": 23,
   "metadata": {},
   "outputs": [],
   "source": [
    "image_id = np.arange(1, x_test.shape[0] + 1)\n",
    "label_predict = model.predict(x_test)"
   ]
  },
  {
   "cell_type": "code",
   "execution_count": 24,
   "metadata": {},
   "outputs": [],
   "source": [
    "from numpy import argmax\n",
    "predictions = np.column_stack((image_id, argmax(label_predict, axis=1))).astype(int)\n",
    "df = pd.DataFrame(data=predictions, columns=[\"ImageId\",\"Label\"])\n",
    "df.to_csv('submission.csv', index=False)"
   ]
  }
 ]
}